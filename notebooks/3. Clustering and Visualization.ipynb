{
 "cells": [
  {
   "cell_type": "code",
   "execution_count": null,
   "id": "08a38839-7d96-497d-b741-e6aaf5f61bd8",
   "metadata": {},
   "outputs": [],
   "source": [
    "import pandas as pd\n",
    "import numpy as np\n",
    "import matplotlib.pyplot as plt\n",
    "from sklearn.preprocessing import StandardScaler\n",
    "from sklearn.decomposition import PCA\n",
    "from sklearn.cluster import KMeans\n",
    "from tqdm import tqdm\n",
    "import seaborn as sns"
   ]
  },
  {
   "cell_type": "code",
   "execution_count": null,
   "id": "f8edc4b7-eece-4b56-b298-1a3a55dbcae1",
   "metadata": {},
   "outputs": [],
   "source": [
    "# Load sentence features dataset\n",
    "INPUT_FILE = '../data/processed/sentence_features.csv'\n",
    "df = pd.read_csv(INPUT_FILE)"
   ]
  },
  {
   "cell_type": "code",
   "execution_count": null,
   "id": "77f604c7-a2e1-4f89-8d6f-a94bac1e0fc1",
   "metadata": {},
   "outputs": [],
   "source": [
    "# Correlation matrix check\n",
    "feature_cols = ['num_tokens', 'avg_word_length', 'ttr',\n",
    "                'noun_ratio', 'verb_ratio', 'adj_ratio']\n",
    "feature_data = df[feature_cols]\n",
    "corr_matrix = feature_data.corr()\n",
    "\n",
    "plt.figure(figsize=(10,8))\n",
    "sns.heatmap(corr_matrix, annot=True, cmap='coolwarm', fmt=\".2f\", square=True, cbar_kws={\"shrink\": 0.8})\n",
    "plt.title(\"Feature Correlation Matrix (Cleaned Features)\")\n",
    "plt.show()"
   ]
  },
  {
   "cell_type": "code",
   "execution_count": null,
   "id": "ba98907d-34bb-4f08-929a-92c35d2a1535",
   "metadata": {},
   "outputs": [],
   "source": [
    "# Feature selection\n",
    "X = df[feature_cols].values"
   ]
  },
  {
   "cell_type": "code",
   "execution_count": null,
   "id": "1749f40b-cbd3-4144-8504-6b1a45987675",
   "metadata": {},
   "outputs": [],
   "source": [
    "# Scaling\n",
    "scaler = StandardScaler()\n",
    "X_scaled = scaler.fit_transform(X)"
   ]
  },
  {
   "cell_type": "code",
   "execution_count": null,
   "id": "b9694241-5d0b-4bb0-aa70-5cb3d215fa91",
   "metadata": {},
   "outputs": [],
   "source": [
    "# Dimensionality reduction (PCA)\n",
    "pca = PCA(n_components=2)\n",
    "X_pca = pca.fit_transform(X_scaled)"
   ]
  },
  {
   "cell_type": "code",
   "execution_count": null,
   "id": "b0958d9b-71a6-417f-85a8-c193b4ecf163",
   "metadata": {},
   "outputs": [],
   "source": [
    "# Clustering (KMeans)\n",
    "k = 5 # can be changed accordingly\n",
    "kmeans = KMeans(n_clusters=k, random_state=42, n_init=10)\n",
    "clusters = kmeans.fit_predict(X_scaled)"
   ]
  },
  {
   "cell_type": "code",
   "execution_count": null,
   "id": "af6f5d2b-d71b-4e07-85c6-2680bb7912a0",
   "metadata": {},
   "outputs": [],
   "source": [
    "# add clustering + PCA coordinates to DataFrame\n",
    "df['cluster'] = clusters\n",
    "df['pca_x'] = X_pca[:,0]\n",
    "df['pca_y'] = X_pca[:,1]"
   ]
  },
  {
   "cell_type": "code",
   "execution_count": null,
   "id": "7090cf9d-b2f2-4de2-bea8-f906a50188be",
   "metadata": {},
   "outputs": [],
   "source": [
    "# Plot PCA scatter plot\n",
    "plt.figure(figsize=(10, 7))\n",
    "scatter = plt.scatter(df['pca_x'], df['pca_y'], c=df['cluster'], cmap='viridis', alpha=0.6)\n",
    "plt.xlabel('PCA Component 1')\n",
    "plt.ylabel('PCA Component 2')\n",
    "plt.title(f'Sentence Clusters (K={k})')\n",
    "plt.colorbar(scatter, label='Cluster')\n",
    "plt.show()"
   ]
  },
  {
   "cell_type": "code",
   "execution_count": null,
   "id": "fd41da44-56b1-49ee-bd5c-2847f21d34d3",
   "metadata": {},
   "outputs": [],
   "source": [
    "# Save result\n",
    "df.to_csv('../data/processed/sentence_clusters.csv', index=False)\n",
    "print(\"✅ Clustering complete. Results saved to sentence_clusters.csv\")"
   ]
  }
 ],
 "metadata": {
  "kernelspec": {
   "display_name": "Python 3 (ipykernel)",
   "language": "python",
   "name": "python3"
  },
  "language_info": {
   "codemirror_mode": {
    "name": "ipython",
    "version": 3
   },
   "file_extension": ".py",
   "mimetype": "text/x-python",
   "name": "python",
   "nbconvert_exporter": "python",
   "pygments_lexer": "ipython3",
   "version": "3.12.10"
  }
 },
 "nbformat": 4,
 "nbformat_minor": 5
}
