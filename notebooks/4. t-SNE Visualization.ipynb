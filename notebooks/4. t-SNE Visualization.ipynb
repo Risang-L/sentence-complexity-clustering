{
 "cells": [
  {
   "cell_type": "code",
   "execution_count": null,
   "id": "966743a5-ab97-434f-a9dc-63fef60642cb",
   "metadata": {},
   "outputs": [],
   "source": [
    "from sklearn.manifold import TSNE"
   ]
  },
  {
   "cell_type": "code",
   "execution_count": null,
   "id": "f8c284e2-ffe4-4cf6-8bc2-df11930465d5",
   "metadata": {},
   "outputs": [],
   "source": [
    "# Apply t-SNE to visualize high-dimensional feature space in 2D\n",
    "tsne = TSNE(n_components=2, random_state=42, perplexity=30, n_iter=1000)\n",
    "X_tsne = tsne.fit_transform(X_scaled)"
   ]
  },
  {
   "cell_type": "code",
   "execution_count": null,
   "id": "00ac2f42-7783-4610-86f9-5468f8a459d3",
   "metadata": {},
   "outputs": [],
   "source": [
    "# Add t-SNE coordinates to DataFrame\n",
    "df['tsne_x'] = X_tsne[:,0]\n",
    "df['tsne_y'] = X_tsne[:,1]"
   ]
  },
  {
   "cell_type": "code",
   "execution_count": null,
   "id": "410ee28d-6be8-4428-bb5c-3d1ac809a828",
   "metadata": {},
   "outputs": [],
   "source": [
    "# Plot t-SNE clusters\n",
    "plt.figure(figsize=(10, 7))\n",
    "scatter = plt.scatter(df['tsne_x'], df['tsne_y'], c=df['cluster'], cmap='viridis', alpha=0.6)\n",
    "plt.xlabel('t-SNE Component 1')\n",
    "plt.ylabel('t-SNE Component 2')\n",
    "plt.title(f'Sentence Clusters with t-SNE (K={k})')\n",
    "plt.colorbar(scatter, label='Cluster')\n",
    "plt.show()"
   ]
  },
  {
   "cell_type": "code",
   "execution_count": null,
   "id": "acaecd36-70b2-4040-825d-e709506f00f0",
   "metadata": {},
   "outputs": [],
   "source": [
    "# Save t-SNE result \n",
    "df.to_csv('../data/processed/sentence_clusters_with_tsne.csv', index=False)\n",
    "print(\"✅ t-SNE visualization complete. File saved.\")"
   ]
  }
 ],
 "metadata": {
  "kernelspec": {
   "display_name": "Python 3 (ipykernel)",
   "language": "python",
   "name": "python3"
  },
  "language_info": {
   "codemirror_mode": {
    "name": "ipython",
    "version": 3
   },
   "file_extension": ".py",
   "mimetype": "text/x-python",
   "name": "python",
   "nbconvert_exporter": "python",
   "pygments_lexer": "ipython3",
   "version": "3.12.10"
  }
 },
 "nbformat": 4,
 "nbformat_minor": 5
}
