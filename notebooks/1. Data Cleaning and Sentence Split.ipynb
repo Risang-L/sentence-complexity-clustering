{
 "cells": [
  {
   "cell_type": "code",
   "execution_count": null,
   "id": "d67a3583-7564-48c5-bce6-e471665bc7be",
   "metadata": {},
   "outputs": [],
   "source": [
    "import os\n",
    "import pandas as pd\n",
    "import spacy\n",
    "import re\n",
    "from tqdm import tqdm"
   ]
  },
  {
   "cell_type": "code",
   "execution_count": null,
   "id": "3456213f-5476-48fd-a132-70bd47eb7006",
   "metadata": {},
   "outputs": [],
   "source": [
    "nlp = spacy.load(\"en_core_web_sm\")"
   ]
  },
  {
   "cell_type": "code",
   "execution_count": null,
   "id": "efc0fb52-6508-4f80-bcff-13129c33de0e",
   "metadata": {},
   "outputs": [],
   "source": [
    "RAW_DATA_FOLDER = '../data/raw/'\n",
    "OUTPUT_FILE = '../data/processed/sentences_dataset.csv'"
   ]
  },
  {
   "cell_type": "code",
   "execution_count": null,
   "id": "aa68a004-5921-46af-87ea-895cdeab9de4",
   "metadata": {},
   "outputs": [],
   "source": [
    "# Clean text\n",
    "def clean_text(text):\n",
    "    text = text.replace('\\n', ' ')                   \n",
    "    text = re.sub(r'\\s+', ' ', text)                 \n",
    "    text = re.sub(r'[^\\x00-\\x7F]+',' ', text)        \n",
    "    text = text.strip()                             \n",
    "    return text"
   ]
  },
  {
   "cell_type": "code",
   "execution_count": null,
   "id": "43cf5245-f3d7-495f-b871-868a21d5d379",
   "metadata": {},
   "outputs": [],
   "source": [
    "# Split sentence\n",
    "def split_into_sentences(text):\n",
    "    doc = nlp(text)\n",
    "    return [sent.text.strip() for sent in doc.sents]"
   ]
  },
  {
   "cell_type": "code",
   "execution_count": null,
   "id": "54f1c63f-a30d-431a-ad71-44e9b29d0e39",
   "metadata": {},
   "outputs": [],
   "source": [
    "# collect all files\n",
    "file_list = [os.path.join(RAW_DATA_FOLDER, f) for f in os.listdir(RAW_DATA_FOLDER) if f.endswith('.txt')]\n",
    "print(f\"Found {len(file_list)} files.\")"
   ]
  },
  {
   "cell_type": "code",
   "execution_count": null,
   "id": "9145f289-6f4f-420c-a7a8-c9de019dfaf9",
   "metadata": {},
   "outputs": [],
   "source": [
    "# Main loop\n",
    "data = []\n",
    "for file_path in tqdm(file_list):\n",
    "    essay_id = os.path.basename(file_path).split('.')[0]  \n",
    "    with open(file_path, 'r', encoding='utf-8') as file:\n",
    "        text = file.read()\n",
    "        text = clean_text(text)\n",
    "        sentences = split_into_sentences(text)\n",
    "        for idx, sentence in enumerate(sentences, start=1):\n",
    "            data.append({\n",
    "                'essay_id': essay_id,\n",
    "                'sentence_id': idx,\n",
    "                'sentence_text': sentence\n",
    "            })"
   ]
  },
  {
   "cell_type": "code",
   "execution_count": null,
   "id": "b6eaad0e-abc2-4c9d-802e-09ffa68d90c2",
   "metadata": {},
   "outputs": [],
   "source": [
    "# Create Dataframe\n",
    "df = pd.DataFrame(data)\n",
    "\n",
    "print(f\"Total sentences extracted: {len(df)}\")\n",
    "print(df.head())"
   ]
  },
  {
   "cell_type": "code",
   "execution_count": null,
   "id": "f11e33a7-0722-4d80-818d-6d3540512650",
   "metadata": {},
   "outputs": [],
   "source": [
    "# Save Output\n",
    "os.makedirs('../data/processed/', exist_ok=True)\n",
    "df.to_csv(OUTPUT_FILE, index=False)\n",
    "print(f\"Saved to {OUTPUT_FILE}\")"
   ]
  }
 ],
 "metadata": {
  "kernelspec": {
   "display_name": "Python 3 (ipykernel)",
   "language": "python",
   "name": "python3"
  },
  "language_info": {
   "codemirror_mode": {
    "name": "ipython",
    "version": 3
   },
   "file_extension": ".py",
   "mimetype": "text/x-python",
   "name": "python",
   "nbconvert_exporter": "python",
   "pygments_lexer": "ipython3",
   "version": "3.12.10"
  }
 },
 "nbformat": 4,
 "nbformat_minor": 5
}
