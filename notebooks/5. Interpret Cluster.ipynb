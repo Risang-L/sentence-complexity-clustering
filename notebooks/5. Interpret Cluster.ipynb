{
 "cells": [
  {
   "cell_type": "code",
   "execution_count": null,
   "id": "2adc4ba1-1618-4d63-a155-a861bd141947",
   "metadata": {},
   "outputs": [],
   "source": [
    "# Load both datasets\n",
    "df_sentences = pd.read_csv('../data/processed/sentences_dataset.csv')   # contains sentence_text\n",
    "df_clusters = pd.read_csv('../data/processed/sentence_clusters.csv')    # your clustered dataset"
   ]
  },
  {
   "cell_type": "code",
   "execution_count": null,
   "id": "65492519-dc03-4ed2-9f61-f8277f1509d5",
   "metadata": {},
   "outputs": [],
   "source": [
    "# Merge on essay_id + sentence_id\n",
    "df_full = pd.merge(df_clusters, df_sentences[['essay_id', 'sentence_id', 'sentence_text']],\n",
    "                   on=['essay_id', 'sentence_id'], how='left')"
   ]
  },
  {
   "cell_type": "code",
   "execution_count": null,
   "id": "d4125c38-7aa2-483a-aa73-2073f072b02b",
   "metadata": {},
   "outputs": [],
   "source": [
    "# Save new file\n",
    "df_full.to_csv('../data/processed/sentence_clusters_with_text.csv', index=False)\n",
    "print(\"✅ Merged sentence_text back into clustered dataset.\")"
   ]
  },
  {
   "cell_type": "code",
   "execution_count": null,
   "id": "35cf6986-46b7-4e5a-8413-234d5fdbb194",
   "metadata": {},
   "outputs": [],
   "source": [
    "# interpret_clusters\n",
    "\n",
    "import pandas as pd"
   ]
  },
  {
   "cell_type": "code",
   "execution_count": null,
   "id": "d0e7fe10-ec5a-470c-bd0b-f28cdab0fe02",
   "metadata": {},
   "outputs": [],
   "source": [
    "# Load clustered dataset\n",
    "df = pd.read_csv('../data/processed/sentence_clusters_with_text.csv')"
   ]
  },
  {
   "cell_type": "code",
   "execution_count": null,
   "id": "68d8fd46-99c9-4c90-9be8-edea8c9c8ce8",
   "metadata": {},
   "outputs": [],
   "source": [
    "# Check number of clusters\n",
    "k = df['cluster'].nunique()\n",
    "print(f\"Found {k} clusters.\")"
   ]
  },
  {
   "cell_type": "code",
   "execution_count": null,
   "id": "b87f7646-b664-41ea-be34-c94a621fbfa1",
   "metadata": {},
   "outputs": [],
   "source": [
    "# Print example sentences from each cluster\n",
    "for cluster in range(k):\n",
    "    print(f\"\\n=== Cluster {cluster} ===\")\n",
    "    sample = df[df['cluster'] == cluster].sample(5, random_state=42)  # 5 random examples\n",
    "    for idx, sentence in enumerate(sample['sentence_text']):\n",
    "        print(f\"{idx+1}. {sentence}\")"
   ]
  },
  {
   "cell_type": "code",
   "execution_count": null,
   "id": "6576c0f6-ee63-48ab-a07d-caf294f41db8",
   "metadata": {},
   "outputs": [],
   "source": [
    "# summarize feature averages per cluster\n",
    "feature_cols = ['num_tokens', 'avg_word_length', 'ttr',\n",
    "                'noun_ratio', 'verb_ratio', 'adj_ratio']\n",
    "\n",
    "print(\"\\n=== Cluster Feature Means ===\")\n",
    "print(df.groupby('cluster')[feature_cols].mean())"
   ]
  }
 ],
 "metadata": {
  "kernelspec": {
   "display_name": "Python 3 (ipykernel)",
   "language": "python",
   "name": "python3"
  },
  "language_info": {
   "codemirror_mode": {
    "name": "ipython",
    "version": 3
   },
   "file_extension": ".py",
   "mimetype": "text/x-python",
   "name": "python",
   "nbconvert_exporter": "python",
   "pygments_lexer": "ipython3",
   "version": "3.12.10"
  }
 },
 "nbformat": 4,
 "nbformat_minor": 5
}
