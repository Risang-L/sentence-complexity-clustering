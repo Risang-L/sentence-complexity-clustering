{
 "cells": [
  {
   "cell_type": "code",
   "execution_count": null,
   "id": "6e6ca696-d9ef-4e98-8222-111f5a3dffb9",
   "metadata": {},
   "outputs": [],
   "source": [
    "import pandas as pd\n",
    "import spacy\n",
    "from collections import Counter\n",
    "from tqdm import tqdm"
   ]
  },
  {
   "cell_type": "code",
   "execution_count": null,
   "id": "a089f435-47da-463c-a55d-aa9b4d8324b5",
   "metadata": {},
   "outputs": [],
   "source": [
    "# load spacy\n",
    "nlp = spacy.load(\"en_core_web_sm\")"
   ]
  },
  {
   "cell_type": "code",
   "execution_count": 1,
   "id": "e2ac77c7-1c94-415c-a2d9-897454e4f07c",
   "metadata": {},
   "outputs": [],
   "source": [
    "# Load sentence dataset\n",
    "INPUT_FILE = '../data/processed/sentences_dataset.csv'\n",
    "OUTPUT_FILE = '../data/processed/sentence_features.csv'\n",
    "\n",
    "df = pd.read_csv(INPUT_FILE)\n",
    "print(f\"Loaded {len(df)} sentences.\")"
   ]
  },
  {
   "cell_type": "code",
   "execution_count": null,
   "id": "5e05a287-892a-4dd7-b3d1-e39c2a965503",
   "metadata": {},
   "outputs": [],
   "source": [
    "# Feature Extraction\n",
    "def extract_features(sentence):\n",
    "    doc = nlp(sentence)\n",
    "\n",
    "    tokens = [token for token in doc if not token.is_punct and not token.is_space]\n",
    "    words = [token.text for token in tokens if token.is_alpha]\n",
    "    word_lengths = [len(word) for word in words]\n",
    "\n",
    "    pos_counts = Counter([token.pos_ for token in tokens])\n",
    "\n",
    "    # Features\n",
    "    features = {\n",
    "        'num_tokens': len(tokens),\n",
    "        'num_words': len(words),\n",
    "        'num_chars': len(sentence),\n",
    "        'avg_word_length': sum(word_lengths) / len(word_lengths) if word_lengths else 0,\n",
    "        'ttr': len(set(words)) / len(words) if words else 0,\n",
    "        'noun_ratio': pos_counts['NOUN'] / len(tokens) if len(tokens) > 0 else 0,\n",
    "        'verb_ratio': pos_counts['VERB'] / len(tokens) if len(tokens) > 0 else 0,\n",
    "        'adj_ratio': pos_counts['ADJ'] / len(tokens) if len(tokens) > 0 else 0,\n",
    "    }\n",
    "\n",
    "    \n",
    "    depths = [abs(token.head.i - token.i) for token in tokens if token.dep_ != 'ROOT']\n",
    "    features['syntactic_depth'] = max(depths) if depths else 0\n",
    "    \n",
    "    return features"
   ]
  },
  {
   "cell_type": "code",
   "execution_count": null,
   "id": "7da7682f-4f3d-4f53-bde4-90f4b05915d6",
   "metadata": {},
   "outputs": [],
   "source": [
    "# Apply to dataset\n",
    "features_list = []\n",
    "for sentence in tqdm(df['sentence_text']):\n",
    "    features_list.append(extract_features(sentence))\n",
    "\n",
    "features_df = pd.DataFrame(features_list)"
   ]
  },
  {
   "cell_type": "code",
   "execution_count": null,
   "id": "65363cb6-8ad2-4e61-9d34-c2f4389490eb",
   "metadata": {},
   "outputs": [],
   "source": [
    "# Combine with original identifiers\n",
    "result = pd.concat([df[['essay_id', 'sentence_id']], features_df], axis=1)\n",
    "print(result.head())"
   ]
  },
  {
   "cell_type": "code",
   "execution_count": null,
   "id": "bc69c445-6136-422d-b02e-0d94484618a6",
   "metadata": {},
   "outputs": [],
   "source": [
    "# Save to file\n",
    "result.to_csv(OUTPUT_FILE, index=False)\n",
    "print(f\"Features saved to {OUTPUT_FILE}\")"
   ]
  }
 ],
 "metadata": {
  "kernelspec": {
   "display_name": "Python 3 (ipykernel)",
   "language": "python",
   "name": "python3"
  },
  "language_info": {
   "codemirror_mode": {
    "name": "ipython",
    "version": 3
   },
   "file_extension": ".py",
   "mimetype": "text/x-python",
   "name": "python",
   "nbconvert_exporter": "python",
   "pygments_lexer": "ipython3",
   "version": "3.12.10"
  }
 },
 "nbformat": 4,
 "nbformat_minor": 5
}
